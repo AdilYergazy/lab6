{
 "cells": [
  {
   "cell_type": "code",
   "execution_count": 3,
   "id": "initial_id",
   "metadata": {
    "collapsed": true,
    "ExecuteTime": {
     "end_time": "2024-03-04T14:32:55.936948Z",
     "start_time": "2024-03-04T14:32:55.927617Z"
    }
   },
   "outputs": [],
   "source": [
    "import os\n",
    "\n",
    "path = ''"
   ]
  },
  {
   "cell_type": "code",
   "outputs": [
    {
     "ename": "FileNotFoundError",
     "evalue": "[Errno 2] No such file or directory: ''",
     "output_type": "error",
     "traceback": [
      "\u001B[0;31m---------------------------------------------------------------------------\u001B[0m",
      "\u001B[0;31mFileNotFoundError\u001B[0m                         Traceback (most recent call last)",
      "Cell \u001B[0;32mIn[4], line 21\u001B[0m\n\u001B[1;32m     17\u001B[0m \u001B[38;5;28;01mdef\u001B[39;00m \u001B[38;5;21meverything\u001B[39m(path):\n\u001B[1;32m     18\u001B[0m     \u001B[38;5;28;01mreturn\u001B[39;00m os\u001B[38;5;241m.\u001B[39mlistdir(path)\n\u001B[0;32m---> 21\u001B[0m dir1 \u001B[38;5;241m=\u001B[39m \u001B[43mdire\u001B[49m\u001B[43m(\u001B[49m\u001B[43mpath\u001B[49m\u001B[43m)\u001B[49m\n",
      "Cell \u001B[0;32mIn[4], line 3\u001B[0m, in \u001B[0;36mdire\u001B[0;34m(path)\u001B[0m\n\u001B[1;32m      1\u001B[0m \u001B[38;5;28;01mdef\u001B[39;00m \u001B[38;5;21mdire\u001B[39m(path):\n\u001B[1;32m      2\u001B[0m     sas \u001B[38;5;241m=\u001B[39m []\n\u001B[0;32m----> 3\u001B[0m     \u001B[38;5;28;01mfor\u001B[39;00m i \u001B[38;5;129;01min\u001B[39;00m \u001B[43mos\u001B[49m\u001B[38;5;241;43m.\u001B[39;49m\u001B[43mlistdir\u001B[49m\u001B[43m(\u001B[49m\u001B[43mpath\u001B[49m\u001B[43m)\u001B[49m:\n\u001B[1;32m      4\u001B[0m         \u001B[38;5;28;01mif\u001B[39;00m os\u001B[38;5;241m.\u001B[39mpath\u001B[38;5;241m.\u001B[39misdir(os\u001B[38;5;241m.\u001B[39mpath\u001B[38;5;241m.\u001B[39mjoin(path, i)):\n\u001B[1;32m      5\u001B[0m             sas\u001B[38;5;241m.\u001B[39mappend(i)\n",
      "\u001B[0;31mFileNotFoundError\u001B[0m: [Errno 2] No such file or directory: ''"
     ]
    }
   ],
   "source": [
    "\n",
    "\n",
    "\n",
    "def dire(path):\n",
    "    sas = []\n",
    "    for i in os.listdir(path):\n",
    "        if os.path.isdir(os.path.join(path, i)):\n",
    "            sas.append(i)\n",
    "    return sas\n",
    "\n",
    "\n",
    "def fil(path):\n",
    "    sas = []\n",
    "    for i in os.listdir(path):\n",
    "        if os.path.isfile(os.path.join(path, i)):\n",
    "            sas.append(i)\n",
    "    return sas\n",
    "\n",
    "\n",
    "def everything(path):\n",
    "    return os.listdir(path)\n",
    "\n",
    "\n",
    "dir1 = dire(path)"
   ],
   "metadata": {
    "collapsed": false,
    "ExecuteTime": {
     "end_time": "2024-03-04T14:32:56.419087Z",
     "start_time": "2024-03-04T14:32:56.355110Z"
    }
   },
   "id": "864c63b7ec1f534f",
   "execution_count": 4
  },
  {
   "cell_type": "code",
   "outputs": [],
   "source": [
    "print('Exist:', os.access(path, os.F_OK))\n",
    "print('Readable:', os.access(path, os.R_OK))\n",
    "print('Writable:', os.access(path, os.W_OK))\n",
    "print('Executable:', os.access(path, os.X_OK))"
   ],
   "metadata": {
    "collapsed": false
   },
   "id": "388c0de86dea56d"
  },
  {
   "cell_type": "code",
   "outputs": [],
   "source": [
    "def check(path):\n",
    "    exist = os.path.exists(path)\n",
    "    if exist:\n",
    "        sas = []\n",
    "        for i in os.listdir(path):\n",
    "            if os.path.isfile(os.path.join(path, i)):\n",
    "                sas.append(i)\n",
    "        sas2 = []\n",
    "        for i in os.listdir(path):\n",
    "            if os.path.isdir(os.path.join(path, i)):\n",
    "                sas2.append(i)\n",
    "        return sas, sas2\n",
    "    else:\n",
    "        print(\"NO SUCH PATH\")\n"
   ],
   "metadata": {
    "collapsed": false
   },
   "id": "f7cdfb97d9f1cf6"
  },
  {
   "cell_type": "code",
   "outputs": [],
   "source": [
    "file = 'name.txt'\n",
    "\n",
    "\n",
    "def countlines(file):\n",
    "    with open(file, \"r\") as f:\n",
    "        count = 0\n",
    "        for i in f:\n",
    "            count += 1\n",
    "    return count\n"
   ],
   "metadata": {
    "collapsed": false,
    "ExecuteTime": {
     "end_time": "2024-03-04T14:41:27.802586Z",
     "start_time": "2024-03-04T14:41:27.796960Z"
    }
   },
   "id": "5268800ee8a17fe1",
   "execution_count": 5
  },
  {
   "cell_type": "code",
   "outputs": [],
   "source": [
    "def writelist(file):\n",
    "    a = [1, 2, 3]\n",
    "    with open(file, \"w\") as f:\n",
    "        b = f\"[{', '.join(str(i) for i in a)}]\"\n",
    "        f.write(b)\n",
    "writelist(file)"
   ],
   "metadata": {
    "collapsed": false,
    "ExecuteTime": {
     "end_time": "2024-03-04T14:46:14.050932Z",
     "start_time": "2024-03-04T14:46:14.043337Z"
    }
   },
   "id": "1a9ae86554599035",
   "execution_count": 11
  },
  {
   "cell_type": "code",
   "outputs": [],
   "source": [
    "def atoz():\n",
    "    for i in range(26):\n",
    "        f = open(f\"{chr(ord('a') + i)}.txt\", 'x')\n",
    "        f.close()\n",
    "atoz()  "
   ],
   "metadata": {
    "collapsed": false,
    "ExecuteTime": {
     "end_time": "2024-03-04T14:50:15.983546Z",
     "start_time": "2024-03-04T14:50:15.963875Z"
    }
   },
   "id": "75dfd264b842060b",
   "execution_count": 15
  },
  {
   "cell_type": "code",
   "outputs": [],
   "source": [
    "another = 'u.txt'\n",
    "def copyfile(file, another):\n",
    "    with open(file, 'r') as f:\n",
    "        b = ''\n",
    "        for i in f:\n",
    "            b += i\n",
    "            b += '\\n'\n",
    "        with open(another, 'w') as r:\n",
    "            r.write(b)\n",
    "copyfile(file, another)"
   ],
   "metadata": {
    "collapsed": false,
    "ExecuteTime": {
     "end_time": "2024-03-04T14:55:59.771776Z",
     "start_time": "2024-03-04T14:55:59.764405Z"
    }
   },
   "id": "ee46443e1d79f1ad",
   "execution_count": 16
  },
  {
   "cell_type": "code",
   "outputs": [],
   "source": [
    "def deletor(path):\n",
    "    if os.path.exists(path) and os.access(path, os.W_OK):\n",
    "        os.remove(path)"
   ],
   "metadata": {
    "collapsed": false,
    "ExecuteTime": {
     "end_time": "2024-03-04T14:58:53.560941Z",
     "start_time": "2024-03-04T14:58:53.555713Z"
    }
   },
   "id": "21434e0d78822e48",
   "execution_count": 17
  },
  {
   "cell_type": "code",
   "outputs": [],
   "source": [],
   "metadata": {
    "collapsed": false
   },
   "id": "d725c9d2c230df33"
  }
 ],
 "metadata": {
  "kernelspec": {
   "display_name": "Python 3",
   "language": "python",
   "name": "python3"
  },
  "language_info": {
   "codemirror_mode": {
    "name": "ipython",
    "version": 2
   },
   "file_extension": ".py",
   "mimetype": "text/x-python",
   "name": "python",
   "nbconvert_exporter": "python",
   "pygments_lexer": "ipython2",
   "version": "2.7.6"
  }
 },
 "nbformat": 4,
 "nbformat_minor": 5
}
